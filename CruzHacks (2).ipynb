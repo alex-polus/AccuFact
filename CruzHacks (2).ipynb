{
  "nbformat": 4,
  "nbformat_minor": 0,
  "metadata": {
    "colab": {
      "name": "CruzHacks.ipynb",
      "provenance": [],
      "collapsed_sections": [],
      "toc_visible": true
    },
    "kernelspec": {
      "name": "python3",
      "display_name": "Python 3"
    }
  },
  "cells": [
    {
      "cell_type": "code",
      "metadata": {
        "id": "QI-jR46qmXaP"
      },
      "source": [
        "import pandas as pd\r\n",
        "from nltk.corpus import stopwords\r\n",
        "from nltk.stem.porter import PorterStemmer\r\n",
        "from sklearn import metrics\r\n",
        "from sklearn.feature_extraction.text import TfidfVectorizer\r\n",
        "from sklearn.model_selection import train_test_split\r\n",
        "from sklearn.linear_model import PassiveAggressiveClassifier\r\n",
        "import numpy as np\r\n",
        "from sklearn.externals import joblib\r\n",
        "import matplotlib.pyplot as plt\r\n",
        "import itertools\r\n",
        "import re\r\n",
        "import nltk"
      ],
      "execution_count": 3,
      "outputs": []
    },
    {
      "cell_type": "code",
      "metadata": {
        "id": "HBHD0uVYmxDF"
      },
      "source": [
        "true = pd.read_csv(\"True.csv\")"
      ],
      "execution_count": 4,
      "outputs": []
    },
    {
      "cell_type": "code",
      "metadata": {
        "id": "8kBumqrvna8W",
        "colab": {
          "base_uri": "https://localhost:8080/",
          "height": 142
        },
        "outputId": "db657e7a-29b1-41e2-dd3f-005cd4de7ada"
      },
      "source": [
        "true.head(3)"
      ],
      "execution_count": 5,
      "outputs": [
        {
          "output_type": "execute_result",
          "data": {
            "text/html": [
              "<div>\n",
              "<style scoped>\n",
              "    .dataframe tbody tr th:only-of-type {\n",
              "        vertical-align: middle;\n",
              "    }\n",
              "\n",
              "    .dataframe tbody tr th {\n",
              "        vertical-align: top;\n",
              "    }\n",
              "\n",
              "    .dataframe thead th {\n",
              "        text-align: right;\n",
              "    }\n",
              "</style>\n",
              "<table border=\"1\" class=\"dataframe\">\n",
              "  <thead>\n",
              "    <tr style=\"text-align: right;\">\n",
              "      <th></th>\n",
              "      <th>title</th>\n",
              "      <th>text</th>\n",
              "      <th>subject</th>\n",
              "      <th>date</th>\n",
              "    </tr>\n",
              "  </thead>\n",
              "  <tbody>\n",
              "    <tr>\n",
              "      <th>0</th>\n",
              "      <td>As U.S. budget fight looms, Republicans flip t...</td>\n",
              "      <td>WASHINGTON (Reuters) - The head of a conservat...</td>\n",
              "      <td>politicsNews</td>\n",
              "      <td>December 31, 2017</td>\n",
              "    </tr>\n",
              "    <tr>\n",
              "      <th>1</th>\n",
              "      <td>U.S. military to accept transgender recruits o...</td>\n",
              "      <td>WASHINGTON (Reuters) - Transgender people will...</td>\n",
              "      <td>politicsNews</td>\n",
              "      <td>December 29, 2017</td>\n",
              "    </tr>\n",
              "    <tr>\n",
              "      <th>2</th>\n",
              "      <td>Senior U.S. Republican senator: 'Let Mr. Muell...</td>\n",
              "      <td>WASHINGTON (Reuters) - The special counsel inv...</td>\n",
              "      <td>politicsNews</td>\n",
              "      <td>December 31, 2017</td>\n",
              "    </tr>\n",
              "  </tbody>\n",
              "</table>\n",
              "</div>"
            ],
            "text/plain": [
              "                                               title  ...                date\n",
              "0  As U.S. budget fight looms, Republicans flip t...  ...  December 31, 2017 \n",
              "1  U.S. military to accept transgender recruits o...  ...  December 29, 2017 \n",
              "2  Senior U.S. Republican senator: 'Let Mr. Muell...  ...  December 31, 2017 \n",
              "\n",
              "[3 rows x 4 columns]"
            ]
          },
          "metadata": {
            "tags": []
          },
          "execution_count": 5
        }
      ]
    },
    {
      "cell_type": "code",
      "metadata": {
        "id": "eoxWghm3ngEI"
      },
      "source": [
        "fake = pd.read_csv(\"Fake.csv\")"
      ],
      "execution_count": 6,
      "outputs": []
    },
    {
      "cell_type": "code",
      "metadata": {
        "id": "1aLdtC52nu9X",
        "colab": {
          "base_uri": "https://localhost:8080/",
          "height": 142
        },
        "outputId": "799cd6fa-3d6f-4021-ebe0-392caea893af"
      },
      "source": [
        "fake.head(3)"
      ],
      "execution_count": 7,
      "outputs": [
        {
          "output_type": "execute_result",
          "data": {
            "text/html": [
              "<div>\n",
              "<style scoped>\n",
              "    .dataframe tbody tr th:only-of-type {\n",
              "        vertical-align: middle;\n",
              "    }\n",
              "\n",
              "    .dataframe tbody tr th {\n",
              "        vertical-align: top;\n",
              "    }\n",
              "\n",
              "    .dataframe thead th {\n",
              "        text-align: right;\n",
              "    }\n",
              "</style>\n",
              "<table border=\"1\" class=\"dataframe\">\n",
              "  <thead>\n",
              "    <tr style=\"text-align: right;\">\n",
              "      <th></th>\n",
              "      <th>title</th>\n",
              "      <th>text</th>\n",
              "      <th>subject</th>\n",
              "      <th>date</th>\n",
              "    </tr>\n",
              "  </thead>\n",
              "  <tbody>\n",
              "    <tr>\n",
              "      <th>0</th>\n",
              "      <td>Donald Trump Sends Out Embarrassing New Year’...</td>\n",
              "      <td>Donald Trump just couldn t wish all Americans ...</td>\n",
              "      <td>News</td>\n",
              "      <td>December 31, 2017</td>\n",
              "    </tr>\n",
              "    <tr>\n",
              "      <th>1</th>\n",
              "      <td>Drunk Bragging Trump Staffer Started Russian ...</td>\n",
              "      <td>House Intelligence Committee Chairman Devin Nu...</td>\n",
              "      <td>News</td>\n",
              "      <td>December 31, 2017</td>\n",
              "    </tr>\n",
              "    <tr>\n",
              "      <th>2</th>\n",
              "      <td>Sheriff David Clarke Becomes An Internet Joke...</td>\n",
              "      <td>On Friday, it was revealed that former Milwauk...</td>\n",
              "      <td>News</td>\n",
              "      <td>December 30, 2017</td>\n",
              "    </tr>\n",
              "  </tbody>\n",
              "</table>\n",
              "</div>"
            ],
            "text/plain": [
              "                                               title  ...               date\n",
              "0   Donald Trump Sends Out Embarrassing New Year’...  ...  December 31, 2017\n",
              "1   Drunk Bragging Trump Staffer Started Russian ...  ...  December 31, 2017\n",
              "2   Sheriff David Clarke Becomes An Internet Joke...  ...  December 30, 2017\n",
              "\n",
              "[3 rows x 4 columns]"
            ]
          },
          "metadata": {
            "tags": []
          },
          "execution_count": 7
        }
      ]
    },
    {
      "cell_type": "code",
      "metadata": {
        "id": "GODWqju7n9AU",
        "colab": {
          "base_uri": "https://localhost:8080/"
        },
        "outputId": "927878c4-68c0-4385-b0d2-f3b731bc4a33"
      },
      "source": [
        "fake.shape"
      ],
      "execution_count": 8,
      "outputs": [
        {
          "output_type": "execute_result",
          "data": {
            "text/plain": [
              "(23481, 4)"
            ]
          },
          "metadata": {
            "tags": []
          },
          "execution_count": 8
        }
      ]
    },
    {
      "cell_type": "code",
      "metadata": {
        "id": "8Td_fU4Vn_se",
        "colab": {
          "base_uri": "https://localhost:8080/"
        },
        "outputId": "8ceb47ee-f45c-4505-fe66-f3099c8f7258"
      },
      "source": [
        "true.shape"
      ],
      "execution_count": 9,
      "outputs": [
        {
          "output_type": "execute_result",
          "data": {
            "text/plain": [
              "(21417, 4)"
            ]
          },
          "metadata": {
            "tags": []
          },
          "execution_count": 9
        }
      ]
    },
    {
      "cell_type": "code",
      "metadata": {
        "id": "IQIpAshNoCfn"
      },
      "source": [
        "true['fact'] = 1"
      ],
      "execution_count": 10,
      "outputs": []
    },
    {
      "cell_type": "code",
      "metadata": {
        "id": "QhHbWVRDoIu5"
      },
      "source": [
        "fake['fact'] = 0"
      ],
      "execution_count": 11,
      "outputs": []
    },
    {
      "cell_type": "code",
      "metadata": {
        "id": "EPK8OU4LoObI",
        "colab": {
          "base_uri": "https://localhost:8080/",
          "height": 142
        },
        "outputId": "7d57f4a3-8e0f-4393-90d9-97b3660cd8cb"
      },
      "source": [
        "fake.head(3)"
      ],
      "execution_count": 12,
      "outputs": [
        {
          "output_type": "execute_result",
          "data": {
            "text/html": [
              "<div>\n",
              "<style scoped>\n",
              "    .dataframe tbody tr th:only-of-type {\n",
              "        vertical-align: middle;\n",
              "    }\n",
              "\n",
              "    .dataframe tbody tr th {\n",
              "        vertical-align: top;\n",
              "    }\n",
              "\n",
              "    .dataframe thead th {\n",
              "        text-align: right;\n",
              "    }\n",
              "</style>\n",
              "<table border=\"1\" class=\"dataframe\">\n",
              "  <thead>\n",
              "    <tr style=\"text-align: right;\">\n",
              "      <th></th>\n",
              "      <th>title</th>\n",
              "      <th>text</th>\n",
              "      <th>subject</th>\n",
              "      <th>date</th>\n",
              "      <th>fact</th>\n",
              "    </tr>\n",
              "  </thead>\n",
              "  <tbody>\n",
              "    <tr>\n",
              "      <th>0</th>\n",
              "      <td>Donald Trump Sends Out Embarrassing New Year’...</td>\n",
              "      <td>Donald Trump just couldn t wish all Americans ...</td>\n",
              "      <td>News</td>\n",
              "      <td>December 31, 2017</td>\n",
              "      <td>0</td>\n",
              "    </tr>\n",
              "    <tr>\n",
              "      <th>1</th>\n",
              "      <td>Drunk Bragging Trump Staffer Started Russian ...</td>\n",
              "      <td>House Intelligence Committee Chairman Devin Nu...</td>\n",
              "      <td>News</td>\n",
              "      <td>December 31, 2017</td>\n",
              "      <td>0</td>\n",
              "    </tr>\n",
              "    <tr>\n",
              "      <th>2</th>\n",
              "      <td>Sheriff David Clarke Becomes An Internet Joke...</td>\n",
              "      <td>On Friday, it was revealed that former Milwauk...</td>\n",
              "      <td>News</td>\n",
              "      <td>December 30, 2017</td>\n",
              "      <td>0</td>\n",
              "    </tr>\n",
              "  </tbody>\n",
              "</table>\n",
              "</div>"
            ],
            "text/plain": [
              "                                               title  ... fact\n",
              "0   Donald Trump Sends Out Embarrassing New Year’...  ...    0\n",
              "1   Drunk Bragging Trump Staffer Started Russian ...  ...    0\n",
              "2   Sheriff David Clarke Becomes An Internet Joke...  ...    0\n",
              "\n",
              "[3 rows x 5 columns]"
            ]
          },
          "metadata": {
            "tags": []
          },
          "execution_count": 12
        }
      ]
    },
    {
      "cell_type": "code",
      "metadata": {
        "id": "zQlivXQToVMg",
        "colab": {
          "base_uri": "https://localhost:8080/",
          "height": 142
        },
        "outputId": "ceaa2770-bca6-46af-8a0c-9ac22c7c2ed9"
      },
      "source": [
        "true.head(3)"
      ],
      "execution_count": 13,
      "outputs": [
        {
          "output_type": "execute_result",
          "data": {
            "text/html": [
              "<div>\n",
              "<style scoped>\n",
              "    .dataframe tbody tr th:only-of-type {\n",
              "        vertical-align: middle;\n",
              "    }\n",
              "\n",
              "    .dataframe tbody tr th {\n",
              "        vertical-align: top;\n",
              "    }\n",
              "\n",
              "    .dataframe thead th {\n",
              "        text-align: right;\n",
              "    }\n",
              "</style>\n",
              "<table border=\"1\" class=\"dataframe\">\n",
              "  <thead>\n",
              "    <tr style=\"text-align: right;\">\n",
              "      <th></th>\n",
              "      <th>title</th>\n",
              "      <th>text</th>\n",
              "      <th>subject</th>\n",
              "      <th>date</th>\n",
              "      <th>fact</th>\n",
              "    </tr>\n",
              "  </thead>\n",
              "  <tbody>\n",
              "    <tr>\n",
              "      <th>0</th>\n",
              "      <td>As U.S. budget fight looms, Republicans flip t...</td>\n",
              "      <td>WASHINGTON (Reuters) - The head of a conservat...</td>\n",
              "      <td>politicsNews</td>\n",
              "      <td>December 31, 2017</td>\n",
              "      <td>1</td>\n",
              "    </tr>\n",
              "    <tr>\n",
              "      <th>1</th>\n",
              "      <td>U.S. military to accept transgender recruits o...</td>\n",
              "      <td>WASHINGTON (Reuters) - Transgender people will...</td>\n",
              "      <td>politicsNews</td>\n",
              "      <td>December 29, 2017</td>\n",
              "      <td>1</td>\n",
              "    </tr>\n",
              "    <tr>\n",
              "      <th>2</th>\n",
              "      <td>Senior U.S. Republican senator: 'Let Mr. Muell...</td>\n",
              "      <td>WASHINGTON (Reuters) - The special counsel inv...</td>\n",
              "      <td>politicsNews</td>\n",
              "      <td>December 31, 2017</td>\n",
              "      <td>1</td>\n",
              "    </tr>\n",
              "  </tbody>\n",
              "</table>\n",
              "</div>"
            ],
            "text/plain": [
              "                                               title  ... fact\n",
              "0  As U.S. budget fight looms, Republicans flip t...  ...    1\n",
              "1  U.S. military to accept transgender recruits o...  ...    1\n",
              "2  Senior U.S. Republican senator: 'Let Mr. Muell...  ...    1\n",
              "\n",
              "[3 rows x 5 columns]"
            ]
          },
          "metadata": {
            "tags": []
          },
          "execution_count": 13
        }
      ]
    },
    {
      "cell_type": "code",
      "metadata": {
        "id": "a8n8gNUpqa4D"
      },
      "source": [
        "dataTotal = [true.loc[0:5000][:], fake.loc[0:5000][:]]"
      ],
      "execution_count": 14,
      "outputs": []
    },
    {
      "cell_type": "code",
      "metadata": {
        "id": "-CTWQrBMqwYR"
      },
      "source": [
        "totalData = pd.concat(dataTotal)"
      ],
      "execution_count": 15,
      "outputs": []
    },
    {
      "cell_type": "code",
      "metadata": {
        "id": "dEbeHUVLq4GL",
        "colab": {
          "base_uri": "https://localhost:8080/"
        },
        "outputId": "66a74fbe-4f77-41e0-b683-06420dba4038"
      },
      "source": [
        "totalData.shape"
      ],
      "execution_count": 16,
      "outputs": [
        {
          "output_type": "execute_result",
          "data": {
            "text/plain": [
              "(10002, 5)"
            ]
          },
          "metadata": {
            "tags": []
          },
          "execution_count": 16
        }
      ]
    },
    {
      "cell_type": "code",
      "metadata": {
        "id": "1tEFCu55rICq",
        "colab": {
          "base_uri": "https://localhost:8080/",
          "height": 419
        },
        "outputId": "a6c48b4d-c01e-4991-be06-db6813422756"
      },
      "source": [
        "totalData.sample(frac=1).reset_index(drop=True)"
      ],
      "execution_count": 17,
      "outputs": [
        {
          "output_type": "execute_result",
          "data": {
            "text/html": [
              "<div>\n",
              "<style scoped>\n",
              "    .dataframe tbody tr th:only-of-type {\n",
              "        vertical-align: middle;\n",
              "    }\n",
              "\n",
              "    .dataframe tbody tr th {\n",
              "        vertical-align: top;\n",
              "    }\n",
              "\n",
              "    .dataframe thead th {\n",
              "        text-align: right;\n",
              "    }\n",
              "</style>\n",
              "<table border=\"1\" class=\"dataframe\">\n",
              "  <thead>\n",
              "    <tr style=\"text-align: right;\">\n",
              "      <th></th>\n",
              "      <th>title</th>\n",
              "      <th>text</th>\n",
              "      <th>subject</th>\n",
              "      <th>date</th>\n",
              "      <th>fact</th>\n",
              "    </tr>\n",
              "  </thead>\n",
              "  <tbody>\n",
              "    <tr>\n",
              "      <th>0</th>\n",
              "      <td>Colbert PERFECTLY Explains The Horror Of A Wo...</td>\n",
              "      <td>Donald Trump has always shown himself to be im...</td>\n",
              "      <td>News</td>\n",
              "      <td>December 2, 2016</td>\n",
              "      <td>0</td>\n",
              "    </tr>\n",
              "    <tr>\n",
              "      <th>1</th>\n",
              "      <td>This ‘Duck Dynasty’ Star Wants To Baptize Don...</td>\n",
              "      <td>When thinking about this election, it s probab...</td>\n",
              "      <td>News</td>\n",
              "      <td>September 12, 2016</td>\n",
              "      <td>0</td>\n",
              "    </tr>\n",
              "    <tr>\n",
              "      <th>2</th>\n",
              "      <td>Government Ethics Office Systems Crash After ...</td>\n",
              "      <td>Kellyanne Conway s decision to provide Ivanka ...</td>\n",
              "      <td>News</td>\n",
              "      <td>February 9, 2017</td>\n",
              "      <td>0</td>\n",
              "    </tr>\n",
              "    <tr>\n",
              "      <th>3</th>\n",
              "      <td>Pence Says There Is ‘Too Much Talk’ About Rac...</td>\n",
              "      <td>While Charlotte, North Carolina faces a state ...</td>\n",
              "      <td>News</td>\n",
              "      <td>September 22, 2016</td>\n",
              "      <td>0</td>\n",
              "    </tr>\n",
              "    <tr>\n",
              "      <th>4</th>\n",
              "      <td>Lebanon's Hezbollah calls U.S. strike on Syria...</td>\n",
              "      <td>BEIRUT (Reuters) - Lebanese Shi’ite group Hezb...</td>\n",
              "      <td>politicsNews</td>\n",
              "      <td>April 7, 2017</td>\n",
              "      <td>1</td>\n",
              "    </tr>\n",
              "    <tr>\n",
              "      <th>...</th>\n",
              "      <td>...</td>\n",
              "      <td>...</td>\n",
              "      <td>...</td>\n",
              "      <td>...</td>\n",
              "      <td>...</td>\n",
              "    </tr>\n",
              "    <tr>\n",
              "      <th>9997</th>\n",
              "      <td>Senator McCain says he will offer Afghanistan ...</td>\n",
              "      <td>WASHINGTON (Reuters) - Republican U.S. Senator...</td>\n",
              "      <td>politicsNews</td>\n",
              "      <td>July 31, 2017</td>\n",
              "      <td>1</td>\n",
              "    </tr>\n",
              "    <tr>\n",
              "      <th>9998</th>\n",
              "      <td>Michigan state House approves carrying conceal...</td>\n",
              "      <td>(Reuters) - Legislation to allow Michigan gun ...</td>\n",
              "      <td>politicsNews</td>\n",
              "      <td>June 8, 2017</td>\n",
              "      <td>1</td>\n",
              "    </tr>\n",
              "    <tr>\n",
              "      <th>9999</th>\n",
              "      <td>Trump invites Republican senators to healthcar...</td>\n",
              "      <td>WASHINGTON (Reuters) - U.S. President Donald T...</td>\n",
              "      <td>politicsNews</td>\n",
              "      <td>July 18, 2017</td>\n",
              "      <td>1</td>\n",
              "    </tr>\n",
              "    <tr>\n",
              "      <th>10000</th>\n",
              "      <td>Trump to limit Cuba travel, restrict business ...</td>\n",
              "      <td>WASHINGTON (Reuters) - President Donald Trump ...</td>\n",
              "      <td>politicsNews</td>\n",
              "      <td>June 15, 2017</td>\n",
              "      <td>1</td>\n",
              "    </tr>\n",
              "    <tr>\n",
              "      <th>10001</th>\n",
              "      <td>Senate gives limited resources to Russia elect...</td>\n",
              "      <td>WASHINGTON (Reuters) - The Senate’s main inve...</td>\n",
              "      <td>politicsNews</td>\n",
              "      <td>April 25, 2017</td>\n",
              "      <td>1</td>\n",
              "    </tr>\n",
              "  </tbody>\n",
              "</table>\n",
              "<p>10002 rows × 5 columns</p>\n",
              "</div>"
            ],
            "text/plain": [
              "                                                   title  ... fact\n",
              "0       Colbert PERFECTLY Explains The Horror Of A Wo...  ...    0\n",
              "1       This ‘Duck Dynasty’ Star Wants To Baptize Don...  ...    0\n",
              "2       Government Ethics Office Systems Crash After ...  ...    0\n",
              "3       Pence Says There Is ‘Too Much Talk’ About Rac...  ...    0\n",
              "4      Lebanon's Hezbollah calls U.S. strike on Syria...  ...    1\n",
              "...                                                  ...  ...  ...\n",
              "9997   Senator McCain says he will offer Afghanistan ...  ...    1\n",
              "9998   Michigan state House approves carrying conceal...  ...    1\n",
              "9999   Trump invites Republican senators to healthcar...  ...    1\n",
              "10000  Trump to limit Cuba travel, restrict business ...  ...    1\n",
              "10001  Senate gives limited resources to Russia elect...  ...    1\n",
              "\n",
              "[10002 rows x 5 columns]"
            ]
          },
          "metadata": {
            "tags": []
          },
          "execution_count": 17
        }
      ]
    },
    {
      "cell_type": "code",
      "metadata": {
        "id": "ijZnc3knrS0W"
      },
      "source": [
        "xAxis = totalData.drop(\"fact\",axis=1)"
      ],
      "execution_count": 18,
      "outputs": []
    },
    {
      "cell_type": "code",
      "metadata": {
        "id": "r1TvTO5-riwZ"
      },
      "source": [
        "yAxis = totalData['fact']"
      ],
      "execution_count": 19,
      "outputs": []
    },
    {
      "cell_type": "code",
      "metadata": {
        "id": "VnRmQHKOrvx6"
      },
      "source": [
        "totalData = totalData.dropna()"
      ],
      "execution_count": 20,
      "outputs": []
    },
    {
      "cell_type": "code",
      "metadata": {
        "id": "-zEhd_0Er4U5"
      },
      "source": [
        "stringTotal = totalData.copy()"
      ],
      "execution_count": 21,
      "outputs": []
    },
    {
      "cell_type": "code",
      "metadata": {
        "id": "3iLUkcXYr9Ip"
      },
      "source": [
        "stringTotal.reset_index(inplace = True)"
      ],
      "execution_count": 22,
      "outputs": []
    },
    {
      "cell_type": "code",
      "metadata": {
        "id": "DzZ5WzocsCEx",
        "colab": {
          "base_uri": "https://localhost:8080/",
          "height": 204
        },
        "outputId": "716302ff-f00b-46fc-924e-aade6c48eb22"
      },
      "source": [
        "stringTotal.head()"
      ],
      "execution_count": 23,
      "outputs": [
        {
          "output_type": "execute_result",
          "data": {
            "text/html": [
              "<div>\n",
              "<style scoped>\n",
              "    .dataframe tbody tr th:only-of-type {\n",
              "        vertical-align: middle;\n",
              "    }\n",
              "\n",
              "    .dataframe tbody tr th {\n",
              "        vertical-align: top;\n",
              "    }\n",
              "\n",
              "    .dataframe thead th {\n",
              "        text-align: right;\n",
              "    }\n",
              "</style>\n",
              "<table border=\"1\" class=\"dataframe\">\n",
              "  <thead>\n",
              "    <tr style=\"text-align: right;\">\n",
              "      <th></th>\n",
              "      <th>index</th>\n",
              "      <th>title</th>\n",
              "      <th>text</th>\n",
              "      <th>subject</th>\n",
              "      <th>date</th>\n",
              "      <th>fact</th>\n",
              "    </tr>\n",
              "  </thead>\n",
              "  <tbody>\n",
              "    <tr>\n",
              "      <th>0</th>\n",
              "      <td>0</td>\n",
              "      <td>As U.S. budget fight looms, Republicans flip t...</td>\n",
              "      <td>WASHINGTON (Reuters) - The head of a conservat...</td>\n",
              "      <td>politicsNews</td>\n",
              "      <td>December 31, 2017</td>\n",
              "      <td>1</td>\n",
              "    </tr>\n",
              "    <tr>\n",
              "      <th>1</th>\n",
              "      <td>1</td>\n",
              "      <td>U.S. military to accept transgender recruits o...</td>\n",
              "      <td>WASHINGTON (Reuters) - Transgender people will...</td>\n",
              "      <td>politicsNews</td>\n",
              "      <td>December 29, 2017</td>\n",
              "      <td>1</td>\n",
              "    </tr>\n",
              "    <tr>\n",
              "      <th>2</th>\n",
              "      <td>2</td>\n",
              "      <td>Senior U.S. Republican senator: 'Let Mr. Muell...</td>\n",
              "      <td>WASHINGTON (Reuters) - The special counsel inv...</td>\n",
              "      <td>politicsNews</td>\n",
              "      <td>December 31, 2017</td>\n",
              "      <td>1</td>\n",
              "    </tr>\n",
              "    <tr>\n",
              "      <th>3</th>\n",
              "      <td>3</td>\n",
              "      <td>FBI Russia probe helped by Australian diplomat...</td>\n",
              "      <td>WASHINGTON (Reuters) - Trump campaign adviser ...</td>\n",
              "      <td>politicsNews</td>\n",
              "      <td>December 30, 2017</td>\n",
              "      <td>1</td>\n",
              "    </tr>\n",
              "    <tr>\n",
              "      <th>4</th>\n",
              "      <td>4</td>\n",
              "      <td>Trump wants Postal Service to charge 'much mor...</td>\n",
              "      <td>SEATTLE/WASHINGTON (Reuters) - President Donal...</td>\n",
              "      <td>politicsNews</td>\n",
              "      <td>December 29, 2017</td>\n",
              "      <td>1</td>\n",
              "    </tr>\n",
              "  </tbody>\n",
              "</table>\n",
              "</div>"
            ],
            "text/plain": [
              "   index  ... fact\n",
              "0      0  ...    1\n",
              "1      1  ...    1\n",
              "2      2  ...    1\n",
              "3      3  ...    1\n",
              "4      4  ...    1\n",
              "\n",
              "[5 rows x 6 columns]"
            ]
          },
          "metadata": {
            "tags": []
          },
          "execution_count": 23
        }
      ]
    },
    {
      "cell_type": "code",
      "metadata": {
        "id": "QMpds_-MsOwR",
        "colab": {
          "base_uri": "https://localhost:8080/",
          "height": 86
        },
        "outputId": "21d96172-1769-4de8-9faa-7efe8535a6be"
      },
      "source": [
        "stringTotal['text'][34]"
      ],
      "execution_count": 24,
      "outputs": [
        {
          "output_type": "execute_result",
          "data": {
            "application/vnd.google.colaboratory.intrinsic+json": {
              "type": "string"
            },
            "text/plain": [
              "' KING OF PRUSSIA, Pennsylvania/WASHINGTON (Reuters) - In the Fox & Hound sports bar, next to a shopping mall in suburban Philadelphia, four Democrats are giving speeches to potential voters as they begin their journey to try to unseat Republican congressman Pat Meehan in next year’s elections. Winning this congressional district - Pennsylvania’s 7th - is key to Democrats’ hopes of gaining the 24 seats they need to retake the U.S. House of Representatives next November. The stakes are high - control of the House would allow them to block President Donald Trump’s legislative agenda. On the surface, Democrats face a significant hurdle. In nearly two-thirds of 34 Republican-held districts that are top of the party’s target list, household income or job growth, and often both, have risen faster than state and national averages over the past two years, according to a Reuters analysis of census data.\\xa0(Graphic:\\xa0tmsnrt.rs/2Bgq29K) That is potentially vote-winning news for Republican incumbents, who in speeches and television ads can trumpet a strengthening economy as a product of Republican control of Washington, even though incomes and job growth began improving under former Democratic President Barack Obama. “The good economy is really the only positive keeping Republicans afloat,” said David Wasserman, a congressional analyst with the non-partisan Cook Political Report. Still, trumpeting the good economy may have limited impact among voters in competitive districts like this mostly white southeast region of Pennsylvania bordering Delaware and New Jersey, which has switched between both parties twice in the past 15 years. Many of the two dozen voters that Reuters interviewed in the 6th and 7th districts agreed the economy was strong, that jobs were returning and wages were growing. A handful were committed Republicans and Democrats who always vote the party line. About half voted for Meehan last year, but most of those said they were unsure whether they would vote for him again in 2018. Some said they were disappointed with the Republican Party’s handling of healthcare and tax reform as well as Trump’s erratic performance. About half also felt that despite an improving economy, living costs are squeezing the middle class. Drew McGinty, one of the Democratic hopefuls at the Fox & Hound bar hoping to unseat Meehan, said the good economic numbers were misleading. “When I talk to people across the district, I hear about stagnant wages. I hear about massive debt young people are getting when they finish college. There’s a lot out there not being told by the numbers,” he said. Still, Meehan, who won by 19 points in last November’s general election, is confident the strong economy will help him next year. He plans to run as a job creator and a champion of the middle class. “The first thing people look at is whether they have got a job and income,” Meehan said in a telephone interview. Democratic presidential candidate Hillary Clinton carried the district by more than two points in the White House race, giving Democrats some hope that they can peel it away from Republicans next November. Kyle Kondik, a political analyst at the University of Virginia Center for Politics, said the election will essentially be a referendum on Trump. The economy might help Republicans, he said, but other issues will likely be uppermost in voters’ minds, like the Republican tax overhaul - which is seen by some as favoring the rich over the middle class - and Trump’s dismantling of President Barack Obama’s initiative to expand healthcare to millions of Americans, popularly known as Obamacare. Indeed, healthcare is Americans’ top concern, according to a Reuters/Ipsos poll conducted earlier this month. Next is terrorism and then the economy. “Healthcare will be the No. 1 issue,” in the election, predicted Molly Sheehan, another Democrat running to unseat Meehan. Democrats have warned that dismantling Obamacare will leave millions of Americans without health coverage, and political analysts say Republicans in vulnerable districts could be punished by angry voters. Republicans argue that Obamacare drives up costs for consumers and interferes with personal medical decisions. In Broomall, a hamlet in the 7th District, local builder Greg Dulgerian, 55, said he voted for Trump and Meehan. He still likes Trump because of his image as a political outsider, but he is less certain about Meehan. “I’m busy, which is good,” Dulgerian said. “But I actually make less than I did 10 years ago, because my living costs and costs of materials have gone up.” Dulgerian said he was not sure what Meehan was doing to address this, and he was open to a Democratic candidate with a plan to help the middle class. Ida McCausland, 65, is a registered Republican but said she is disappointed with the party. She views the overhaul of the tax system as a giveaway to the rich that will hit the middle class. “I will probably just go Democrat,” she said. Still, others interviewed said the good economy was the most important issue for them and would vote for Meehan. \\xa0\\xa0\\xa0 Mike Allard, 35, a stocks day trader, voted for Clinton last year but did not cast a ballot in the congressional vote. He thinks the economy will help Meehan next year and is leaning toward voting for him. “Local businesses like the way the economy is going right now,” he said. In the 7th district median household income jumped more than 10 percent from 2014 to 2016, from $78,000 to around $86,000, above the national average increase of 7.3 percent, while job growth held steady, the analysis of the census data shows. Overall, the U.S. economy has grown 3 percent in recent quarters, and some forecasters now think the\\xa0stimulus from the Republican tax cuts will sustain that rate of growth through next year. Unemployment has dropped to 4.1 percent, a 17-year low. In midterm congressional elections, history shows that voters often focus on issues other than the economy. In 1966 the economy was thriving, but President Lyndon B. Johnson’s Democrats suffered a net loss of 47 seats, partly because of growing unhappiness with the Vietnam War. In 2006, again the economy was humming, but Republicans lost a net 31 seats in the House, as voters focused on the Iraq war and the unpopularity of Republican President George W. Bush. In 2010, despite pulling the economy out of a major recession, Democrats lost control of the House to Republicans, mainly because of the passage of Obamacare, which at the time was highly unpopular with many voters. “When times are bad, the election is almost always about the economy. When the economy is good, people have the freedom and the ability to worry about other issues,” said Stu Rothenberg, a veteran political analyst. '"
            ]
          },
          "metadata": {
            "tags": []
          },
          "execution_count": 24
        }
      ]
    },
    {
      "cell_type": "code",
      "metadata": {
        "id": "KcNUb2mesS3C",
        "colab": {
          "base_uri": "https://localhost:8080/"
        },
        "outputId": "ba6c15ab-6f0c-4a34-94ea-5f4372821f16"
      },
      "source": [
        "stringTotal['fact'][34]"
      ],
      "execution_count": 25,
      "outputs": [
        {
          "output_type": "execute_result",
          "data": {
            "text/plain": [
              "1"
            ]
          },
          "metadata": {
            "tags": []
          },
          "execution_count": 25
        }
      ]
    },
    {
      "cell_type": "markdown",
      "metadata": {
        "id": "zqNpFr9AslXJ"
      },
      "source": [
        "# **Natural Language Processing**\r\n",
        "This step makes program more efficient and lessens the contrains on the machine learning aspect of the program"
      ]
    },
    {
      "cell_type": "code",
      "metadata": {
        "id": "Ib8bUCdouFLP"
      },
      "source": [
        ""
      ],
      "execution_count": 26,
      "outputs": []
    },
    {
      "cell_type": "code",
      "metadata": {
        "id": "askUbgqKtEor"
      },
      "source": [
        "singleStem = PorterStemmer()"
      ],
      "execution_count": 27,
      "outputs": []
    },
    {
      "cell_type": "code",
      "metadata": {
        "id": "HPDjU-IftWWS",
        "colab": {
          "base_uri": "https://localhost:8080/"
        },
        "outputId": "b9aaba5f-d90e-489a-a025-defe9a72a96f"
      },
      "source": [
        "nltk.download('stopwords')\r\n",
        "limit = []\r\n",
        "for i in range(0,len(stringTotal)):\r\n",
        "  review = re.sub('[^a-zA-Z]', ' ', stringTotal['text'][i])\r\n",
        "  review = review.lower()\r\n",
        "  review = review.split()\r\n",
        "  review = [singleStem.stem(word) for word in review if not word in stopwords.words('english')]\r\n",
        "  review = ' '.join(review)\r\n",
        "  limit.append(review)"
      ],
      "execution_count": null,
      "outputs": [
        {
          "output_type": "stream",
          "text": [
            "[nltk_data] Downloading package stopwords to /root/nltk_data...\n",
            "[nltk_data]   Unzipping corpora/stopwords.zip.\n"
          ],
          "name": "stdout"
        }
      ]
    },
    {
      "cell_type": "code",
      "metadata": {
        "id": "D1qOg5nyzve_"
      },
      "source": [
        "vector = TfidfVectorizer(max_features=5000, ngram_range=(1,3))"
      ],
      "execution_count": null,
      "outputs": []
    },
    {
      "cell_type": "code",
      "metadata": {
        "id": "UO4r5lgd0NTW"
      },
      "source": [
        "vector.get_params()"
      ],
      "execution_count": null,
      "outputs": []
    },
    {
      "cell_type": "code",
      "metadata": {
        "id": "e4V56Jp4047A"
      },
      "source": [
        "xAxis = vector.fit_transform(limit).toarray()"
      ],
      "execution_count": null,
      "outputs": []
    },
    {
      "cell_type": "code",
      "metadata": {
        "id": "UGgdrUPN1IXw"
      },
      "source": [
        "yAxis = stringTotal['fact']"
      ],
      "execution_count": null,
      "outputs": []
    },
    {
      "cell_type": "code",
      "metadata": {
        "id": "xCFLICAh1694"
      },
      "source": [
        "X_train, X_test, y_train, y_test = train_test_split(xAxis, yAxis, test_size=0.2, random_state=0)"
      ],
      "execution_count": null,
      "outputs": []
    },
    {
      "cell_type": "code",
      "metadata": {
        "id": "a9EZIcpVmybv"
      },
      "source": [
        "data_count = pd.DataFrame(X_train, columns=vector.get_feature_names())"
      ],
      "execution_count": null,
      "outputs": []
    },
    {
      "cell_type": "code",
      "metadata": {
        "id": "5-LUwpHWnC-h"
      },
      "source": [
        "data_count.head(3)"
      ],
      "execution_count": null,
      "outputs": []
    },
    {
      "cell_type": "code",
      "metadata": {
        "id": "uikszjBwnMAM"
      },
      "source": [
        "identifier = PassiveAggressiveClassifier(max_iter=1000)"
      ],
      "execution_count": null,
      "outputs": []
    },
    {
      "cell_type": "code",
      "metadata": {
        "id": "YEv2VTcunP-B"
      },
      "source": [
        "identifier.fit(X_train, y_train)"
      ],
      "execution_count": null,
      "outputs": []
    },
    {
      "cell_type": "code",
      "metadata": {
        "id": "WQVo8_T0nXwi"
      },
      "source": [
        "predictor = identifier.predict(X_test)\r\n",
        "accuracy = metrics.accuracy_score(y_test,predictor)"
      ],
      "execution_count": null,
      "outputs": []
    },
    {
      "cell_type": "code",
      "metadata": {
        "id": "v0g4yLjDnp8g"
      },
      "source": [
        "print(accuracy)"
      ],
      "execution_count": null,
      "outputs": []
    },
    {
      "cell_type": "code",
      "metadata": {
        "id": "3vo5xLeStXMM"
      },
      "source": [
        "review = re.sub('[^a-zA-Z]', ' ', true['text'][16888])\r\n",
        "review = review.lower()\r\n",
        "review = review.split()\r\n",
        "review = [singleStem.stem(word) for word in review if not word in stopwords.words('english')]\r\n",
        "review = ' '.join(review)\r\n"
      ],
      "execution_count": null,
      "outputs": []
    },
    {
      "cell_type": "code",
      "metadata": {
        "id": "V2sIQHe75R3E"
      },
      "source": [
        "inputData = vector.transform([review]).toarray()"
      ],
      "execution_count": null,
      "outputs": []
    },
    {
      "cell_type": "code",
      "metadata": {
        "id": "PrgNBBy_7RGw"
      },
      "source": [
        "pd.DataFrame(inputData, columns = vector.get_feature_names())"
      ],
      "execution_count": null,
      "outputs": []
    },
    {
      "cell_type": "code",
      "metadata": {
        "id": "QuQtecBW_ICq"
      },
      "source": [
        "identifier.predict(inputData)"
      ],
      "execution_count": null,
      "outputs": []
    },
    {
      "cell_type": "code",
      "metadata": {
        "id": "_bR3CPwC_jkp"
      },
      "source": [
        "joblib.dump(identifier, 'model.pkl')"
      ],
      "execution_count": null,
      "outputs": []
    },
    {
      "cell_type": "code",
      "metadata": {
        "id": "m-BiYPjg_sBs"
      },
      "source": [
        "joblib.dump(vector, 'tfidfvect.pkl')"
      ],
      "execution_count": null,
      "outputs": []
    }
  ]
}